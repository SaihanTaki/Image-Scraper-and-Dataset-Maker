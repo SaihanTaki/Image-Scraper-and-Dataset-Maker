{
 "cells": [
  {
   "cell_type": "markdown",
   "metadata": {},
   "source": [
    "# Import Packages"
   ]
  },
  {
   "cell_type": "code",
   "execution_count": 67,
   "metadata": {},
   "outputs": [],
   "source": [
    "from selenium import webdriver\n",
    "from bs4 import BeautifulSoup\n",
    "import urllib.request\n",
    "import shutil\n",
    "import random\n",
    "import math\n",
    "import uuid\n",
    "import time\n",
    "import os"
   ]
  },
  {
   "cell_type": "markdown",
   "metadata": {},
   "source": [
    "* `shutil.rmtree(directory_path)` - used for deleting a non-empty directory\n",
    "\n",
    "* `uuid.uuid4()` - make secure and random id\n",
    "\n",
    "* `urllib.request.urlretrieve(url, file_path)` - retrieve a URL into file_path"
   ]
  },
  {
   "cell_type": "markdown",
   "metadata": {},
   "source": [
    "# Scraping Image"
   ]
  },
  {
   "cell_type": "markdown",
   "metadata": {},
   "source": [
    "**1. `scroll_webpage`** \n",
    "   * scroll the web page if number of images to download is greater then a threshold value."
   ]
  },
  {
   "cell_type": "code",
   "execution_count": 68,
   "metadata": {},
   "outputs": [],
   "source": [
    "def scroll_webpage(driver, n_images):\n",
    "\n",
    "    print(\"Scrolling the web page...\")\n",
    "\n",
    "    if n_images > 20:\n",
    "\n",
    "        i = 0\n",
    "        while i < 5:\n",
    "            # for scrolling page\n",
    "            driver.execute_script(\"window.scrollBy(0,document.body.scrollHeight)\")\n",
    "\n",
    "            try:\n",
    "                # for clicking show more results button\n",
    "                driver.find_element_by_xpath(\"/html/body/div[2]/c-wiz/div[3]/div[1]/div/div/div/div/div[5]/input\").click()\n",
    "            except Exception as e:\n",
    "                pass\n",
    "\n",
    "            time.sleep(5)\n",
    "            i += 1\n",
    "\n",
    "    else:\n",
    "        driver.execute_script(\"window.scrollBy(0,document.body.scrollHeight)\")\n",
    "\n",
    "    print(\"Scrolling End!\")\n",
    "\n",
    "    return None"
   ]
  },
  {
   "cell_type": "code",
   "execution_count": 69,
   "metadata": {},
   "outputs": [
    {
     "name": "stdout",
     "output_type": "stream",
     "text": [
      "Scrolling the web page...\n",
      "Scrolling End!\n"
     ]
    }
   ],
   "source": [
    "n_images = 60\n",
    "driver_path = \"readonly/chromedriver.exe\"\n",
    "driver = webdriver.Chrome(driver_path)\n",
    "driver.get(url)\n",
    "\n",
    "scroll_webpage(driver, n_images)\n",
    "\n",
    "driver.close()"
   ]
  },
  {
   "cell_type": "markdown",
   "metadata": {},
   "source": [
    "**2. `scrap_images`**\n",
    "\n",
    "   * Opens the browser and parsing information from the web page\n",
    "   \n",
    "   * Helper function: `scroll_webpage`"
   ]
  },
  {
   "cell_type": "code",
   "execution_count": 70,
   "metadata": {},
   "outputs": [],
   "source": [
    "def scrap_images(url, n_images, driver_path):\n",
    "\n",
    "    driver = webdriver.Chrome(driver_path)\n",
    "\n",
    "    print(\"Opening the browser...\")\n",
    "    driver.get(url)\n",
    "\n",
    "    scroll_webpage(driver, n_images)\n",
    "    # Parsing\n",
    "    soup = BeautifulSoup(driver.page_source, 'html.parser')\n",
    "    # Close the driver\n",
    "    driver.close()\n",
    "    print(\"Browser Closed!\")\n",
    "\n",
    "    img_tags = soup.find_all(\"img\", class_=\"rg_i\", limit=n_images)\n",
    "    #imgs = soup.select('img[src^=\"data:image/jpeg\"]')\n",
    "\n",
    "    return img_tags"
   ]
  },
  {
   "cell_type": "code",
   "execution_count": 77,
   "metadata": {
    "scrolled": true
   },
   "outputs": [
    {
     "name": "stdout",
     "output_type": "stream",
     "text": [
      "Opening the browser...\n",
      "Scrolling the web page...\n",
      "Scrolling End!\n",
      "Browser Closed!\n",
      "60\n"
     ]
    }
   ],
   "source": [
    "n_images = 60\n",
    "image_name = \"hotdog\"\n",
    "url = 'https://www.google.com/search?tbm=isch&q='+image_name\n",
    "driver_path = \"readonly/chromedriver.exe\"\n",
    "\n",
    "img_tags = scrap_images(url, n_images, driver_path)\n",
    "\n",
    "print(len(img_tags))\n",
    "#print(img_tags[0])"
   ]
  },
  {
   "cell_type": "markdown",
   "metadata": {},
   "source": [
    "**3. `download_images`**\n",
    "   * Extract links from `img` tags\n",
    "   * Download images form extracted links"
   ]
  },
  {
   "cell_type": "code",
   "execution_count": 78,
   "metadata": {},
   "outputs": [],
   "source": [
    "def download_images(img_tags, save_directory):\n",
    "\n",
    "    # Check the directory\n",
    "    if not os.path.exists(save_directory):\n",
    "        os.makedirs(save_directory)\n",
    "    else:\n",
    "        pass\n",
    "\n",
    "    # Downloading iamges\n",
    "    print(\"Start downloading.....\")\n",
    "\n",
    "    for img in img_tags:\n",
    "\n",
    "        path1 = save_directory\n",
    "\n",
    "        try:\n",
    "            name = str(uuid.uuid4())\n",
    "            path2 = name+\".jpg\"\n",
    "            file_path = os.path.join(path1, path2)\n",
    "            urllib.request.urlretrieve(img['src'], file_path)\n",
    "        except:\n",
    "            pass\n",
    "\n",
    "    # Check the number of downloaded image\n",
    "    n_downloded_image = len(os.listdir(save_directory))\n",
    "\n",
    "    print(\"Download finished!\")\n",
    "    print(\"{} image downloaded.\".format(n_downloded_image))\n",
    "\n",
    "    return None\n"
   ]
  },
  {
   "cell_type": "code",
   "execution_count": 94,
   "metadata": {},
   "outputs": [
    {
     "name": "stdout",
     "output_type": "stream",
     "text": [
      "Start downloading.....\n",
      "Download finished!\n",
      "55 image downloaded.\n"
     ]
    }
   ],
   "source": [
    "img_tags = img_tags\n",
    "image_name = \"hotdog\"\n",
    "test_save_directory = \"readonly/testing/images\"+\"_\"+image_name\n",
    "\n",
    "download_images(img_tags, save_directory=test_save_directory)"
   ]
  },
  {
   "cell_type": "code",
   "execution_count": 103,
   "metadata": {},
   "outputs": [
    {
     "data": {
      "text/plain": [
       "<matplotlib.image.AxesImage at 0x1c7add6eb08>"
      ]
     },
     "execution_count": 103,
     "metadata": {},
     "output_type": "execute_result"
    },
    {
     "data": {
      "image/png": "[encoded data removed]",
      "text/plain": [
       "<Figure size 432x288 with 1 Axes>"
      ]
     },
     "metadata": {
      "needs_background": "light"
     },
     "output_type": "display_data"
    }
   ],
   "source": [
    "# Showing an image\n",
    "import matplotlib.pyplot as plt\n",
    "from PIL import Image\n",
    "im_name = os.listdir(test_save_directory)[19]\n",
    "im_path = os.path.join(test_save_directory, im_name)\n",
    "im = Image.open(im_path)\n",
    "plt.imshow(im)"
   ]
  },
  {
   "cell_type": "markdown",
   "metadata": {},
   "source": [
    "# Creating Dataset"
   ]
  },
  {
   "cell_type": "markdown",
   "metadata": {},
   "source": [
    "**1.1  `train_test_split`**\n",
    "   * Splits a directory into test and train set using a given fraction "
   ]
  },
  {
   "cell_type": "code",
   "execution_count": 104,
   "metadata": {},
   "outputs": [],
   "source": [
    "def train_test_split(data_directory, split=0.8, seed=42):\n",
    "\n",
    "    random.seed(seed)\n",
    "\n",
    "    image_list = os.listdir(data_directory)\n",
    "    random.shuffle(image_list)\n",
    "\n",
    "    dataset_length = len(image_list)\n",
    "    train_length = math.ceil(len(image_list)*split)\n",
    "    test_length = len(image_list) - train_length\n",
    "\n",
    "    train = []\n",
    "    test = []\n",
    "\n",
    "    for i in range(train_length):\n",
    "        train.append(image_list[i])\n",
    "\n",
    "    for i in range(train_length, dataset_length):\n",
    "        test.append(image_list[i])\n",
    "\n",
    "    return train, test"
   ]
  },
  {
   "cell_type": "code",
   "execution_count": 105,
   "metadata": {
    "scrolled": false
   },
   "outputs": [
    {
     "name": "stdout",
     "output_type": "stream",
     "text": [
      "Training set length: 44\n",
      "Test set length: 11\n"
     ]
    }
   ],
   "source": [
    "image_name = \"hotdog\"\n",
    "test_image_directory = \"readonly/testing/images\"+\"_\"+image_name\n",
    "\n",
    "train, test = train_test_split(data_directory=test_image_directory)\n",
    "\n",
    "print(\"Training set length: {}\".format(len(train)))\n",
    "print(\"Test set length: {}\".format(len(test)))"
   ]
  },
  {
   "cell_type": "markdown",
   "metadata": {},
   "source": [
    "**1.2 `make_dataset`**\n",
    "\n",
    "   * Creates train & test datasets\n",
    "   \n",
    "   * Helper function: `train_test_split`"
   ]
  },
  {
   "cell_type": "code",
   "execution_count": 106,
   "metadata": {},
   "outputs": [],
   "source": [
    "def make_dataset(dataset_directory, image_directory, image_name, split=0.8, seed=42):\n",
    "\n",
    "    train_path = os.path.join(dataset_directory, \"train\", image_name)\n",
    "    test_path = os.path.join(dataset_directory, \"test\", image_name)\n",
    "\n",
    "    paths = [train_path, test_path]\n",
    "\n",
    "    for path in paths:\n",
    "        if not os.path.exists(path):\n",
    "            os.makedirs(path)\n",
    "        else:\n",
    "            pass\n",
    "\n",
    "    train, test = train_test_split(image_directory, split, seed)\n",
    "\n",
    "    for image in train:\n",
    "        path = os.path.join(train_path, image)\n",
    "        with open(image_directory+\"/\"+image, 'rb') as f:\n",
    "            img = f.read()\n",
    "            with open(path, \"wb\") as f:\n",
    "                f.write(img)\n",
    "\n",
    "    for image in test:\n",
    "        path = os.path.join(test_path, image)\n",
    "        with open(image_directory+\"/\"+image, 'rb') as f:\n",
    "            img = f.read()\n",
    "            with open(path, \"wb\") as f:\n",
    "                f.write(img)\n",
    "\n",
    "    return None"
   ]
  },
  {
   "cell_type": "code",
   "execution_count": 107,
   "metadata": {},
   "outputs": [
    {
     "name": "stdout",
     "output_type": "stream",
     "text": [
      "['test', 'train']\n",
      "44 images found in training set!\n",
      "11 images found in test set!\n"
     ]
    }
   ],
   "source": [
    "image_name = \"hotdog\"\n",
    "test_image_directory = \"readonly/testing/images\"+\"_\"+image_name\n",
    "test_dataset_directory = \"readonly/testing/Data_Set\"\n",
    "\n",
    "make_dataset(test_dataset_directory, test_image_directory, image_name)\n",
    "\n",
    "print(os.listdir(dataset_directory))\n",
    "print(\"{} images found in training set!\".format(len(os.listdir(test_dataset_directory+\"/train/\"+image_name))))\n",
    "print(\"{} images found in test set!\".format(len(os.listdir(test_dataset_directory+\"/test/\"+image_name))))"
   ]
  },
  {
   "cell_type": "markdown",
   "metadata": {},
   "source": [
    "**2.1 `shuffle_csv_dataset`**\n",
    "   * Shuffles rows of a csv file"
   ]
  },
  {
   "cell_type": "code",
   "execution_count": 114,
   "metadata": {},
   "outputs": [],
   "source": [
    "def shuffle_csv_dataset(file_path,seed=42):\n",
    "\n",
    "    random.seed(seed)\n",
    "    \n",
    "    with open(file_path,\"r\") as f:\n",
    "        lines= f.readlines()\n",
    "        header = lines[0]\n",
    "        rows = lines[1:]\n",
    "    \n",
    "    with open(file_path,\"w\") as f:\n",
    "        f.write(header)\n",
    "        random.shuffle(rows)\n",
    "        for line in rows:\n",
    "            f.write(line)\n",
    "    \n",
    "    return rows"
   ]
  },
  {
   "cell_type": "code",
   "execution_count": 117,
   "metadata": {},
   "outputs": [
    {
     "data": {
      "text/plain": [
       "['5bdd54b6-acd8-4dc2-aad7-4c8d832dec45.jpg,1\\n',\n",
       " '947b56cf-3ffd-481e-9416-4c89b0bd7512.jpg,1\\n',\n",
       " '2682d5a7-bbb1-4861-8bee-2a8106d00647.jpg,1\\n',\n",
       " '504d24a1-e6e8-4e4d-bee3-a9637afac22a.jpg,1\\n',\n",
       " '223e81ba-cfbc-4c7d-b703-a666137f6340.jpg,1\\n',\n",
       " '26ecda58-97ca-4a64-8ee1-fc6a43f79185.jpg,1\\n',\n",
       " 'b2de0d08-2d5f-479d-a201-be8a4f9d1d6b.jpg,1\\n',\n",
       " 'c49afc51-2d7b-4f2d-8c43-25b04796cf57.jpg,1\\n',\n",
       " '57dc6779-4c4b-422b-b10e-6d2bf9985e8f.jpg,1\\n',\n",
       " '0896561c-90f6-4e75-8ad8-e0dc53a57b18.jpg,1\\n',\n",
       " 'd8623e72-af2d-4921-8cb2-175e178ed5f4.jpg,1\\n']"
      ]
     },
     "execution_count": 117,
     "metadata": {},
     "output_type": "execute_result"
    }
   ],
   "source": [
    "test_dataset_directory = \"readonly/testing/Data_Set\"\n",
    "file_path = test_dataset_directory+\"/test_labels.csv\"\n",
    "\n",
    "shuffle_csv_dataset(file_path)"
   ]
  },
  {
   "cell_type": "markdown",
   "metadata": {},
   "source": [
    "**2.2 `train_labels_csv`**\n",
    "\n",
    "   * Creates a csv file named `labels.csv` containig the labels of training set\n",
    "   \n",
    "   * Helper function: `shuffle_csv_dataset`"
   ]
  },
  {
   "cell_type": "code",
   "execution_count": 110,
   "metadata": {},
   "outputs": [],
   "source": [
    "def train_labels_csv(dataset_directory, image_name, label):\n",
    "\n",
    "    label = str(label)\n",
    "\n",
    "    file_path = os.path.join(dataset_directory, \"labels.csv\")\n",
    "    train_directory = os.path.join(dataset_directory,\"train\",image_name)\n",
    "\n",
    "    if not os.path.exists(file_path):\n",
    "        with open(file_path, \"w\") as f:\n",
    "\n",
    "            header = \"Image\"+\",\"+\"Label\"+\"\\n\"\n",
    "            f.write(header)\n",
    "            \n",
    "            image_list = os.listdir(train_directory)\n",
    "            \n",
    "            for img in image_list:\n",
    "                single_row = img+\",\"+label+\"\\n\"\n",
    "                f.write(single_row)\n",
    "                \n",
    "    else:\n",
    "        with open(file_path, \"a\") as f:\n",
    "            \n",
    "            image_list = os.listdir(train_directory)\n",
    "            \n",
    "            for img in image_list:\n",
    "                single_row = img+\",\"+label+\"\\n\"\n",
    "                f.write(single_row)\n",
    "        \n",
    "            \n",
    "    shuffle_csv_dataset(file_path)\n",
    "\n",
    "    return None"
   ]
  },
  {
   "cell_type": "code",
   "execution_count": 119,
   "metadata": {},
   "outputs": [
    {
     "name": "stdout",
     "output_type": "stream",
     "text": [
      "Created File Name:  labels.csv\n"
     ]
    }
   ],
   "source": [
    "image_name = \"hotdog\"\n",
    "test_dataset_directory = \"readonly/testing/Data_Set\"\n",
    "\n",
    "train_labels_csv(test_dataset_directory, image_name, label=1)\n",
    "\n",
    "print(\"Created File Name: \", os.listdir(test_dataset_directory)[0])"
   ]
  },
  {
   "cell_type": "markdown",
   "metadata": {},
   "source": [
    "**2.3 `test_labels_csv`**\n",
    "\n",
    "   * Creates a csv file named `test_labels.csv` containig the labels of test set.\n",
    "   \n",
    "   * Helper function: `shuffle_csv_dataset`"
   ]
  },
  {
   "cell_type": "code",
   "execution_count": 112,
   "metadata": {},
   "outputs": [],
   "source": [
    "def test_labels_csv(dataset_directory, image_name, label):\n",
    "\n",
    "    label = str(label)\n",
    "\n",
    "    file_path = os.path.join(dataset_directory, \"test_labels.csv\")\n",
    "    test_directory = os.path.join(dataset_directory,\"test\",image_name)\n",
    "\n",
    "    if not os.path.exists(file_path):\n",
    "        with open(file_path, \"w\") as f:\n",
    "\n",
    "            header = \"Image\"+\",\"+\"Label\"+\"\\n\"\n",
    "            f.write(header)\n",
    "            \n",
    "            image_list = os.listdir(test_directory)\n",
    "            \n",
    "            for img in image_list:\n",
    "                single_row = img+\",\"+label+\"\\n\"\n",
    "                f.write(single_row)\n",
    "                \n",
    "    else:\n",
    "        with open(file_path, \"a\") as f:\n",
    "            \n",
    "            image_list = os.listdir(test_directory)\n",
    "            \n",
    "            for img in image_list:\n",
    "                single_row = img+\",\"+label+\"\\n\"\n",
    "                f.write(single_row)\n",
    "        \n",
    "            \n",
    "    shuffle_csv_dataset(file_path)\n",
    "\n",
    "    return None"
   ]
  },
  {
   "cell_type": "code",
   "execution_count": 118,
   "metadata": {},
   "outputs": [
    {
     "name": "stdout",
     "output_type": "stream",
     "text": [
      "Created File Name:  test_labels.csv\n"
     ]
    }
   ],
   "source": [
    "image_name = \"hotdog\"\n",
    "test_dataset_directory = \"readonly/testing/Data_Set\"\n",
    "\n",
    "test_labels_csv(test_dataset_directory, image_name, label=1)\n",
    "\n",
    "print(\"Created File Name: \", os.listdir(test_dataset_directory)[2])"
   ]
  },
  {
   "cell_type": "markdown",
   "metadata": {},
   "source": [
    "**3.`dataset_information`**\n",
    "   * Returns usefull infos about the dataset"
   ]
  },
  {
   "cell_type": "code",
   "execution_count": 120,
   "metadata": {},
   "outputs": [],
   "source": [
    "def dataset_information(dataset_directory):\n",
    "    \n",
    "    folders = os.listdir(dataset_directory)\n",
    "    \n",
    "    file_path_train = os.path.join(dataset_directory,\"labels.csv\")\n",
    "    with open(file_path_train,\"r\") as f:\n",
    "        lines = f.readlines()\n",
    "        rows = lines[1:]\n",
    "        train_len = len(rows)\n",
    "        \n",
    "    file_path_test = os.path.join(dataset_directory,\"test_labels.csv\")\n",
    "    with open(file_path_test,\"r\") as f:\n",
    "        lines = f.readlines()\n",
    "        rows = lines[1:]\n",
    "        test_len = len(rows)\n",
    "        \n",
    "    \n",
    "    train_path = os.path.join(dataset_directory,\"train\") \n",
    "    data = {}\n",
    "    for idx,img_name in enumerate(os.listdir(train_path)):\n",
    "        data[idx] = img_name\n",
    "        \n",
    "    Information = Information = ''' ---------------------------------------\n",
    "                                    Info:\n",
    "                                    ---------------------------------------\n",
    "                                    Data : {}\n",
    "                                    Training set length : {}\n",
    "                                    Test set length : {}\n",
    "                                    Folders in the directory : {}\n",
    "                                    ---------------------------------------'''.format( data, train_len, test_len, folders)\n",
    "    \n",
    "    return Information"
   ]
  },
  {
   "cell_type": "code",
   "execution_count": 121,
   "metadata": {},
   "outputs": [
    {
     "name": "stdout",
     "output_type": "stream",
     "text": [
      " ---------------------------------------\n",
      "                                    Info:\n",
      "                                    ---------------------------------------\n",
      "                                    Data : {0: 'hotdog'}\n",
      "                                    Training set length : 44\n",
      "                                    Test set length : 11\n",
      "                                    Folders in the directory : ['labels.csv', 'test', 'test_labels.csv', 'train']\n",
      "                                    ---------------------------------------\n"
     ]
    }
   ],
   "source": [
    "test_dataset_directory = \"readonly/testing/Data_Set\"\n",
    "\n",
    "info = dataset_information(test_dataset_directory)\n",
    "\n",
    "print(info)"
   ]
  },
  {
   "cell_type": "markdown",
   "metadata": {},
   "source": [
    "# Main Function"
   ]
  },
  {
   "cell_type": "markdown",
   "metadata": {},
   "source": [
    "* Downloads images\n",
    "\n",
    "* If `dataset` is set to `True`,it will create the dataset\n",
    "\n",
    "* If `del_img_dir` is set to `True`,it will delete the image directory\n",
    "\n",
    "* If `dataset_info` is set to `True`,it will return the dataset's infos\n",
    "\n",
    "* Prints elapsed time for parsing web page and downloading images"
   ]
  },
  {
   "cell_type": "code",
   "execution_count": 122,
   "metadata": {},
   "outputs": [],
   "source": [
    "def main(dataset=False,del_img_dir=False,dataset_info=True):\n",
    "\n",
    "    image_name = input(\"What do you want to download? \")\n",
    "    n_images = int(input(\"How many images? \"))\n",
    "    label = int(input(\"Label of the image? \"))\n",
    "    url = 'https://www.google.com/search?tbm=isch&q='+image_name\n",
    "    driver_path = \"readonly/chromedriver.exe\"\n",
    "    image_directory = \"readonly/images\"+\"_\"+image_name\n",
    "    dataset_directory = \"readonly/Data_Set\"\n",
    "    \n",
    "    tic = time.time()\n",
    "    \n",
    "    img_tags = scrap_images(url, n_images, driver_path)\n",
    "\n",
    "    download_images(img_tags=img_tags, save_directory=image_directory)\n",
    "    \n",
    "    toc = time.time()\n",
    "    \n",
    "    elapsed_time = toc-tic\n",
    "    \n",
    "    print(\"Time elapsed {} seconds\".format(elapsed_time))\n",
    "    \n",
    "\n",
    "    if dataset:\n",
    "        make_dataset(dataset_directory, image_directory, image_name)\n",
    "        train_labels_csv(dataset_directory, image_name, label)\n",
    "        test_labels_csv(dataset_directory, image_name, label)\n",
    "        print(\"Dataset Created!\")\n",
    "    else:\n",
    "        print(\"Dataset is not created!\")\n",
    "    \n",
    "    if del_img_dir:\n",
    "        try:\n",
    "            shutil.rmtree(image_directory)\n",
    "            print(\"Image_directory is deleted!\")\n",
    "        except:\n",
    "            pass\n",
    "    else:\n",
    "        print(\"Image_directory is not deleted!\")\n",
    "        \n",
    "    \n",
    "    if dataset_info:\n",
    "        information = dataset_information(dataset_directory)\n",
    "        print(information)\n",
    "    else:\n",
    "        pass\n",
    "\n",
    "    return None"
   ]
  },
  {
   "cell_type": "markdown",
   "metadata": {},
   "source": [
    "# Put it all together"
   ]
  },
  {
   "cell_type": "code",
   "execution_count": 2,
   "metadata": {},
   "outputs": [
    {
     "name": "stdout",
     "output_type": "stream",
     "text": [
      "What do you want to download? cat\n",
      "How many images? 60\n",
      "Label of the image? 1\n",
      "Opening the browser...\n",
      "Scrolling the web page...\n",
      "Scrolling End!\n",
      "Browser Closed!\n",
      "Start downloading.....\n",
      "Download finished!\n",
      "55 image downloaded.\n",
      "Time elapsed 42.68992042541504 seconds\n",
      "Dataset Created!\n",
      "Image_directory is not deleted!\n",
      " ---------------------------------------\n",
      "                                    Info:\n",
      "                                    ---------------------------------------\n",
      "                                    Data : {0: 'car', 1: 'cat'}\n",
      "                                    Training set length : 82\n",
      "                                    Test set length : 20\n",
      "                                    Folders in the directory : ['labels.csv', 'test', 'test_labels.csv', 'train']\n",
      "                                    ---------------------------------------\n"
     ]
    }
   ],
   "source": [
    "################################ Import Packages################################################\n",
    "\n",
    "from selenium import webdriver\n",
    "from bs4 import BeautifulSoup\n",
    "import urllib.request\n",
    "import requests\n",
    "import shutil\n",
    "import random\n",
    "import math\n",
    "import uuid\n",
    "import time\n",
    "import os\n",
    "\n",
    "\n",
    "##################################################################################################\n",
    "######################################## Scraping Image ##########################################\n",
    "##################################################################################################\n",
    "\n",
    "def scroll_webpage(driver, n_images):\n",
    "\n",
    "    print(\"Scrolling the web page...\")\n",
    "\n",
    "    if n_images > 20:\n",
    "\n",
    "        i = 0\n",
    "        while i < 5:\n",
    "            # for scrolling page\n",
    "            driver.execute_script(\n",
    "                \"window.scrollBy(0,document.body.scrollHeight)\")\n",
    "\n",
    "            try:\n",
    "                # for clicking show more results button\n",
    "                driver.find_element_by_xpath(\n",
    "                    \"/html/body/div[2]/c-wiz/div[3]/div[1]/div/div/div/div/div[5]/input\").click()\n",
    "            except Exception as e:\n",
    "                pass\n",
    "\n",
    "            time.sleep(5)\n",
    "            i += 1\n",
    "\n",
    "    else:\n",
    "        driver.execute_script(\"window.scrollBy(0,document.body.scrollHeight)\")\n",
    "\n",
    "    print(\"Scrolling End!\")\n",
    "\n",
    "    return None\n",
    "\n",
    "############################################################################################\n",
    "\n",
    "\n",
    "def scrap_images(url, n_images, driver_path):\n",
    "\n",
    "    driver = webdriver.Chrome(driver_path)\n",
    "\n",
    "    print(\"Opening the browser...\")\n",
    "    driver.get(url)\n",
    "\n",
    "    scroll_webpage(driver, n_images)\n",
    "    # Parsing\n",
    "    soup = BeautifulSoup(driver.page_source, 'html.parser')\n",
    "    # Close the driver\n",
    "    driver.close()\n",
    "    print(\"Browser Closed!\")\n",
    "\n",
    "    img_tags = soup.find_all(\"img\", class_=\"rg_i\", limit=n_images)\n",
    "    #imgs = soup.select('img[src^=\"data:image/jpeg\"]')\n",
    "\n",
    "    return img_tags\n",
    "\n",
    "##########################################################################################################\n",
    "\n",
    "\n",
    "def download_images(img_tags, save_directory):\n",
    "\n",
    "    # Check the directory\n",
    "    if not os.path.exists(save_directory):\n",
    "        os.makedirs(save_directory)\n",
    "    else:\n",
    "        pass\n",
    "\n",
    "    # Downloading iamges\n",
    "    print(\"Start downloading.....\")\n",
    "\n",
    "    for img in img_tags:\n",
    "\n",
    "        path1 = save_directory\n",
    "\n",
    "        try:\n",
    "            name = str(uuid.uuid4())\n",
    "            path2 = name+\".jpg\"\n",
    "            file_path = os.path.join(path1, path2)\n",
    "            urllib.request.urlretrieve(img['src'], file_path)\n",
    "        except:\n",
    "            pass\n",
    "\n",
    "    # Check the number of downloaded image\n",
    "    n_downloded_image = len(os.listdir(save_directory))\n",
    "\n",
    "    print(\"Download finished!\")\n",
    "    print(\"{} image downloaded.\".format(n_downloded_image))\n",
    "\n",
    "    return None\n",
    "\n",
    "\n",
    "####################################################################################################\n",
    "###################################### Creating Dataset ############################################\n",
    "####################################################################################################\n",
    "\n",
    "\n",
    "def train_test_split(data_directory, split=0.8, seed=42):\n",
    "\n",
    "    random.seed(seed)\n",
    "\n",
    "    image_list = os.listdir(data_directory)\n",
    "    random.shuffle(image_list)\n",
    "\n",
    "    dataset_length = len(image_list)\n",
    "    train_length = math.ceil(len(image_list)*split)\n",
    "    test_length = len(image_list) - train_length\n",
    "\n",
    "    train = []\n",
    "    test = []\n",
    "\n",
    "    for i in range(train_length):\n",
    "        train.append(image_list[i])\n",
    "\n",
    "    for i in range(train_length, dataset_length):\n",
    "        test.append(image_list[i])\n",
    "\n",
    "    return train, test\n",
    "\n",
    "##################################################################################################\n",
    "\n",
    "\n",
    "def make_dataset(dataset_directory, image_directory, image_name, split=0.8, seed=42):\n",
    "\n",
    "    train_path = os.path.join(dataset_directory, \"train\", image_name)\n",
    "    test_path = os.path.join(dataset_directory, \"test\", image_name)\n",
    "\n",
    "    paths = [train_path, test_path]\n",
    "\n",
    "    for path in paths:\n",
    "        if not os.path.exists(path):\n",
    "            os.makedirs(path)\n",
    "        else:\n",
    "            pass\n",
    "\n",
    "    train, test = train_test_split(image_directory, split, seed)\n",
    "\n",
    "    for image in train:\n",
    "        path = os.path.join(train_path, image)\n",
    "        with open(image_directory+\"/\"+image, 'rb') as f:\n",
    "            img = f.read()\n",
    "            with open(path, \"wb\") as f:\n",
    "                f.write(img)\n",
    "\n",
    "    for image in test:\n",
    "        path = os.path.join(test_path, image)\n",
    "        with open(image_directory+\"/\"+image, 'rb') as f:\n",
    "            img = f.read()\n",
    "            with open(path, \"wb\") as f:\n",
    "                f.write(img)\n",
    "\n",
    "    return None\n",
    "\n",
    "##########################################################################################################\n",
    "\n",
    "\n",
    "def shuffle_csv_dataset(file_path,seed=42):\n",
    "\n",
    "    random.seed(seed)\n",
    "    \n",
    "    with open(file_path,\"r\") as f:\n",
    "        lines= f.readlines()\n",
    "        header = lines[0]\n",
    "        rows = lines[1:]\n",
    "    \n",
    "    with open(file_path,\"w\") as f:\n",
    "        f.write(header)\n",
    "        random.shuffle(rows)\n",
    "        for line in rows:\n",
    "            f.write(line)\n",
    "    \n",
    "    return None\n",
    "\n",
    "############################################################################################################\n",
    "\n",
    "\n",
    "def train_labels_csv(dataset_directory, image_name, label):\n",
    "\n",
    "    label = str(label)\n",
    "\n",
    "    file_path = os.path.join(dataset_directory, \"labels.csv\")\n",
    "    train_directory = os.path.join(dataset_directory,\"train\",image_name)\n",
    "\n",
    "    if not os.path.exists(file_path):\n",
    "        with open(file_path, \"w\") as f:\n",
    "\n",
    "            header = \"Image\"+\",\"+\"Label\"+\"\\n\"\n",
    "            f.write(header)\n",
    "            \n",
    "            image_list = os.listdir(train_directory)\n",
    "            \n",
    "            for img in image_list:\n",
    "                single_row = img+\",\"+label+\"\\n\"\n",
    "                f.write(single_row)\n",
    "                \n",
    "    else:\n",
    "        with open(file_path, \"a\") as f:\n",
    "            \n",
    "            image_list = os.listdir(train_directory)\n",
    "            \n",
    "            for img in image_list:\n",
    "                single_row = img+\",\"+label+\"\\n\"\n",
    "                f.write(single_row)\n",
    "        \n",
    "            \n",
    "    shuffle_csv_dataset(file_path)\n",
    "\n",
    "    return None\n",
    "\n",
    "############################################################################################################\n",
    "\n",
    "\n",
    "def test_labels_csv(dataset_directory, image_name, label):\n",
    "\n",
    "    label = str(label)\n",
    "\n",
    "    file_path = os.path.join(dataset_directory, \"test_labels.csv\")\n",
    "    test_directory = os.path.join(dataset_directory,\"test\",image_name)\n",
    "\n",
    "    if not os.path.exists(file_path):\n",
    "        with open(file_path, \"w\") as f:\n",
    "\n",
    "            header = \"Image\"+\",\"+\"Label\"+\"\\n\"\n",
    "            f.write(header)\n",
    "            \n",
    "            image_list = os.listdir(test_directory)\n",
    "            \n",
    "            for img in image_list:\n",
    "                single_row = img+\",\"+label+\"\\n\"\n",
    "                f.write(single_row)\n",
    "                \n",
    "    else:\n",
    "        with open(file_path, \"a\") as f:\n",
    "            \n",
    "            image_list = os.listdir(test_directory)\n",
    "            \n",
    "            for img in image_list:\n",
    "                single_row = img+\",\"+label+\"\\n\"\n",
    "                f.write(single_row)\n",
    "        \n",
    "            \n",
    "    shuffle_csv_dataset(file_path)\n",
    "\n",
    "    return None\n",
    "\n",
    "############################################################################################################\n",
    "\n",
    "\n",
    "def dataset_information(dataset_directory):\n",
    "    \n",
    "    folders = os.listdir(dataset_directory)\n",
    "    \n",
    "    file_path_train = os.path.join(dataset_directory,\"labels.csv\")\n",
    "    with open(file_path_train,\"r\") as f:\n",
    "        lines = f.readlines()\n",
    "        rows = lines[1:]\n",
    "        train_len = len(rows)\n",
    "        \n",
    "    file_path_test = os.path.join(dataset_directory,\"test_labels.csv\")\n",
    "    with open(file_path_test,\"r\") as f:\n",
    "        lines = f.readlines()\n",
    "        rows = lines[1:]\n",
    "        test_len = len(rows)\n",
    "        \n",
    "    \n",
    "    train_path = os.path.join(dataset_directory,\"train\") \n",
    "    data = {}\n",
    "    for idx,img_name in enumerate(os.listdir(train_path)):\n",
    "        data[idx] = img_name\n",
    "        \n",
    "    Information = Information = ''' ---------------------------------------\n",
    "                                    Info:\n",
    "                                    ---------------------------------------\n",
    "                                    Data : {}\n",
    "                                    Training set length : {}\n",
    "                                    Test set length : {}\n",
    "                                    Folders in the directory : {}\n",
    "                                    ---------------------------------------'''.format( data, train_len, test_len, folders)\n",
    "    \n",
    "    return Information\n",
    "\n",
    "##########################################################################################################\n",
    "######################################## Main Function ###################################################\n",
    "##########################################################################################################\n",
    "\n",
    "\n",
    "def main(dataset=False,del_img_dir=False,dataset_info=True):\n",
    "\n",
    "    image_name = input(\"What do you want to download? \")\n",
    "    n_images = int(input(\"How many images? \"))\n",
    "    label = int(input(\"Label of the image? \"))\n",
    "    url = 'https://www.google.com/search?tbm=isch&q='+image_name\n",
    "    driver_path = \"readonly/chromedriver.exe\"\n",
    "    image_directory = \"readonly/images\"+\"_\"+image_name\n",
    "    dataset_directory = \"readonly/Data_Set\"\n",
    "    \n",
    "    tic = time.time()\n",
    "    \n",
    "    img_tags = scrap_images(url, n_images, driver_path)\n",
    "\n",
    "    download_images(img_tags=img_tags, save_directory=image_directory)\n",
    "    \n",
    "    toc = time.time()\n",
    "    \n",
    "    elapsed_time = toc-tic\n",
    "    \n",
    "    print(\"Time elapsed {} seconds\".format(elapsed_time))\n",
    "    \n",
    "\n",
    "    if dataset:\n",
    "        make_dataset(dataset_directory, image_directory, image_name)\n",
    "        train_labels_csv(dataset_directory, image_name, label)\n",
    "        test_labels_csv(dataset_directory, image_name, label)\n",
    "        print(\"Dataset Created!\")\n",
    "    else:\n",
    "        print(\"Dataset is not created!\")\n",
    "    \n",
    "    if del_img_dir:\n",
    "        try:\n",
    "            shutil.rmtree(image_directory)\n",
    "            print(\"Image_directory is deleted!\")\n",
    "        except:\n",
    "            pass\n",
    "    else:\n",
    "        print(\"Image_directory is not deleted!\")\n",
    "        \n",
    "    \n",
    "    if dataset_info:\n",
    "        information = dataset_information(dataset_directory)\n",
    "        print(information)\n",
    "    else:\n",
    "        pass\n",
    "\n",
    "    return None\n",
    "\n",
    "#############################################################################################################\n",
    "#############################################################################################################\n",
    "#############################################################################################################\n",
    "\n",
    "\n",
    "if __name__ == '__main__':\n",
    "\n",
    "    main(dataset=True)"
   ]
  }
 ],
 "metadata": {
  "kernelspec": {
   "display_name": "Python 3",
   "language": "python",
   "name": "python3"
  },
  "language_info": {
   "codemirror_mode": {
    "name": "ipython",
    "version": 3
   },
   "file_extension": ".py",
   "mimetype": "text/x-python",
   "name": "python",
   "nbconvert_exporter": "python",
   "pygments_lexer": "ipython3",
   "version": "3.7.6"
  }
 },
 "nbformat": 4,
 "nbformat_minor": 4
}
